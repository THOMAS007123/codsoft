{
 "cells": [
  {
   "cell_type": "code",
   "execution_count": 10,
   "id": "b7e269fc-f5de-4db6-9083-5b3d554a4758",
   "metadata": {},
   "outputs": [
    {
     "name": "stdout",
     "output_type": "stream",
     "text": [
      "Recommended movies: ['Inc.5 Women Wedges', 'La Briza Ashley Boots', 'Toe Spring Flip Flops', 'iLO Stylish Loafers', \"Raymond Men's Printed Formal Blue Shirt\", 'Katalogue Women Heels', 'Finesse Loafers', 'Yepme Women Flats', 'Crocs Boys Sandals', 'Port NuWave Football Shoes']\n"
     ]
    }
   ],
   "source": [
    "import pandas as pd\n",
    "from sklearn.feature_extraction.text import TfidfVectorizer\n",
    "from sklearn.metrics.pairwise import cosine_similarity\n",
    "\n",
    "\n",
    "df = pd.read_csv(\"flipkart_com-ecommerce_sample.csv\", engine=\"python\")\n",
    "df = df[[\"product_name\", \"product_category_tree\",]].dropna().reset_index(drop=True)\n",
    "df = df[:5500]\n",
    "\n",
    "\n",
    "df['product_category_tree'] = df['product_category_tree'].str.replace('[', '', regex=False).str.replace(']', '', regex=False).str.replace(\"'\", \"\", regex=False).str.replace(',', ' ', regex=False)\n",
    "df['product_category_tree'] = df['product_category_tree'].str.lower()\n",
    "\n",
    "tfidf = TfidfVectorizer(stop_words='english')\n",
    "\n",
    "\n",
    "tfidf_matrix = tfidf.fit_transform(df['product_category_tree'])\n",
    "\n",
    "\n",
    "similarity_matrix = cosine_similarity(tfidf_matrix, tfidf_matrix)\n",
    "\n",
    "def recommend_by_cat(cat, num_recommendations=10):\n",
    "\n",
    "    filtered_df = df[df['product_category_tree'].str.contains(cat.lower(), case=False)]\n",
    "    \n",
    "    if filtered_df.empty:\n",
    "        return f\"No product found for category '{cat}'.\"\n",
    "    \n",
    "\n",
    "    recommended_product = []\n",
    "\n",
    "    for idx in filtered_df.index:\n",
    "\n",
    "        sim_scores = list(enumerate(similarity_matrix[idx]))\n",
    "        \n",
    "\n",
    "        sim_scores = sorted(sim_scores, key=lambda x: x[1], reverse=True)\n",
    "        \n",
    "\n",
    "        sim_scores = sim_scores[1:num_recommendations + 1]  \n",
    "        \n",
    "\n",
    "        product_indices = [i[0] for i in sim_scores]\n",
    "        pro = df['product_name'].iloc[product_indices].tolist()\n",
    "        recommended_product.extend(pro)\n",
    "    \n",
    "\n",
    "    recommended_product = list(set(recommended_product))\n",
    "    \n",
    "    return recommended_product[:num_recommendations]\n",
    "\n",
    "\n",
    "recommended_product = recommend_by_cat(\"footwear\", num_recommendations=10)\n",
    "print(\"Recommended movies:\", recommended_product)\n"
   ]
  },
  {
   "cell_type": "code",
   "execution_count": null,
   "id": "a57c95d5-a2d2-4cce-b83b-3291df14219b",
   "metadata": {},
   "outputs": [],
   "source": []
  }
 ],
 "metadata": {
  "kernelspec": {
   "display_name": "Python 3 (ipykernel)",
   "language": "python",
   "name": "python3"
  },
  "language_info": {
   "codemirror_mode": {
    "name": "ipython",
    "version": 3
   },
   "file_extension": ".py",
   "mimetype": "text/x-python",
   "name": "python",
   "nbconvert_exporter": "python",
   "pygments_lexer": "ipython3",
   "version": "3.11.7"
  }
 },
 "nbformat": 4,
 "nbformat_minor": 5
}
