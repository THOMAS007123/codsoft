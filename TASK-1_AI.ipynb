{
 "cells": [
  {
   "cell_type": "code",
   "execution_count": 2,
   "id": "f684f3b0-f3c7-4fd6-ac60-5752f1380562",
   "metadata": {},
   "outputs": [
    {
     "name": "stdout",
     "output_type": "stream",
     "text": [
      "USER : "
     ]
    },
    {
     "name": "stdin",
     "output_type": "stream",
     "text": [
      " hi\n"
     ]
    },
    {
     "name": "stdout",
     "output_type": "stream",
     "text": [
      "BOT : \thow can i help you\n",
      "USER : "
     ]
    },
    {
     "name": "stdin",
     "output_type": "stream",
     "text": [
      " your name\n"
     ]
    },
    {
     "name": "stdout",
     "output_type": "stream",
     "text": [
      "BOT : Hi, I am thomas, a ChatBot\n",
      "\tHow can I help you\n",
      "USER : "
     ]
    },
    {
     "name": "stdin",
     "output_type": "stream",
     "text": [
      " who made you\n"
     ]
    },
    {
     "name": "stdout",
     "output_type": "stream",
     "text": [
      "BOT : thomas eldhose,he is a AI Engineer\n",
      "USER : "
     ]
    },
    {
     "name": "stdin",
     "output_type": "stream",
     "text": [
      " hgfdh\n"
     ]
    },
    {
     "name": "stdout",
     "output_type": "stream",
     "text": [
      "BOT : I couldn't understand\n",
      "USER : "
     ]
    },
    {
     "name": "stdin",
     "output_type": "stream",
     "text": [
      " bye\n"
     ]
    },
    {
     "name": "stdout",
     "output_type": "stream",
     "text": [
      "BOT : Ok, Sir see you soon\n"
     ]
    }
   ],
   "source": [
    "\n",
    "while True:\n",
    "    print(\"USER : \",end=\"\")\n",
    "    query = input()\n",
    "    print(\"BOT : \",end=\"\")\n",
    "    if \"hello\" in query or \"hi\" in query:\n",
    "        print(\"\\thow can i help you\")\n",
    "    elif \"your name\" in query or \"who are you\" in query:\n",
    "        print(\"Hi, I am thomas, a ChatBot\")\n",
    "        print(\"\\tHow can I help you\")\n",
    "    elif \"who made you\" in query:\n",
    "        print(\"thomas eldhose,he is a AI Engineer\")\n",
    "    elif \"bye\" in query:\n",
    "        print(\"Ok, Sir see you soon\")\n",
    "        break\n",
    "    else:\n",
    "        print(\"I couldn't understand\")"
   ]
  },
  {
   "cell_type": "code",
   "execution_count": null,
   "id": "0eb24933-7a06-4f17-a927-5219feaa477d",
   "metadata": {},
   "outputs": [],
   "source": []
  },
  {
   "cell_type": "code",
   "execution_count": null,
   "id": "1b639d64-3e79-4d52-899c-933b9e326a6b",
   "metadata": {},
   "outputs": [],
   "source": []
  },
  {
   "cell_type": "code",
   "execution_count": null,
   "id": "41a71fa3-06fb-4559-a37b-caabbdb25198",
   "metadata": {},
   "outputs": [],
   "source": []
  }
 ],
 "metadata": {
  "kernelspec": {
   "display_name": "Python 3 (ipykernel)",
   "language": "python",
   "name": "python3"
  },
  "language_info": {
   "codemirror_mode": {
    "name": "ipython",
    "version": 3
   },
   "file_extension": ".py",
   "mimetype": "text/x-python",
   "name": "python",
   "nbconvert_exporter": "python",
   "pygments_lexer": "ipython3",
   "version": "3.11.7"
  }
 },
 "nbformat": 4,
 "nbformat_minor": 5
}
